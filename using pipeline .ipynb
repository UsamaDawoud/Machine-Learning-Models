{
 "cells": [
  {
   "cell_type": "code",
   "execution_count": 1,
   "id": "687558be",
   "metadata": {},
   "outputs": [],
   "source": [
    "# Chains togather multiple steps in which output of each step used as input for the next step"
   ]
  },
  {
   "cell_type": "code",
   "execution_count": 2,
   "id": "26bc16c2",
   "metadata": {},
   "outputs": [],
   "source": [
    "import numpy as np\n",
    "import pandas as pd"
   ]
  },
  {
   "cell_type": "code",
   "execution_count": 3,
   "id": "5e6c6e47",
   "metadata": {},
   "outputs": [],
   "source": [
    "df= pd.read_csv('gene_expression.csv')"
   ]
  },
  {
   "cell_type": "code",
   "execution_count": 4,
   "id": "de31b36d",
   "metadata": {},
   "outputs": [
    {
     "data": {
      "text/html": [
       "<div>\n",
       "<style scoped>\n",
       "    .dataframe tbody tr th:only-of-type {\n",
       "        vertical-align: middle;\n",
       "    }\n",
       "\n",
       "    .dataframe tbody tr th {\n",
       "        vertical-align: top;\n",
       "    }\n",
       "\n",
       "    .dataframe thead th {\n",
       "        text-align: right;\n",
       "    }\n",
       "</style>\n",
       "<table border=\"1\" class=\"dataframe\">\n",
       "  <thead>\n",
       "    <tr style=\"text-align: right;\">\n",
       "      <th></th>\n",
       "      <th>Gene One</th>\n",
       "      <th>Gene Two</th>\n",
       "      <th>Cancer Present</th>\n",
       "    </tr>\n",
       "  </thead>\n",
       "  <tbody>\n",
       "    <tr>\n",
       "      <th>0</th>\n",
       "      <td>4.3</td>\n",
       "      <td>3.9</td>\n",
       "      <td>1</td>\n",
       "    </tr>\n",
       "    <tr>\n",
       "      <th>1</th>\n",
       "      <td>2.5</td>\n",
       "      <td>6.3</td>\n",
       "      <td>0</td>\n",
       "    </tr>\n",
       "    <tr>\n",
       "      <th>2</th>\n",
       "      <td>5.7</td>\n",
       "      <td>3.9</td>\n",
       "      <td>1</td>\n",
       "    </tr>\n",
       "    <tr>\n",
       "      <th>3</th>\n",
       "      <td>6.1</td>\n",
       "      <td>6.2</td>\n",
       "      <td>0</td>\n",
       "    </tr>\n",
       "    <tr>\n",
       "      <th>4</th>\n",
       "      <td>7.4</td>\n",
       "      <td>3.4</td>\n",
       "      <td>1</td>\n",
       "    </tr>\n",
       "  </tbody>\n",
       "</table>\n",
       "</div>"
      ],
      "text/plain": [
       "   Gene One  Gene Two  Cancer Present\n",
       "0       4.3       3.9               1\n",
       "1       2.5       6.3               0\n",
       "2       5.7       3.9               1\n",
       "3       6.1       6.2               0\n",
       "4       7.4       3.4               1"
      ]
     },
     "execution_count": 4,
     "metadata": {},
     "output_type": "execute_result"
    }
   ],
   "source": [
    "df.head()"
   ]
  },
  {
   "cell_type": "code",
   "execution_count": 5,
   "id": "7602ecd9",
   "metadata": {},
   "outputs": [],
   "source": [
    "X = df.drop('Cancer Present' , axis=1)\n",
    "y= df['Cancer Present']\n",
    "from sklearn.model_selection import train_test_split\n",
    "X_train , X_test , y_train , y_test = train_test_split(X,y,test_size=0.3,random_state=101)"
   ]
  },
  {
   "cell_type": "code",
   "execution_count": 6,
   "id": "2404fbd0",
   "metadata": {},
   "outputs": [],
   "source": [
    "from sklearn.pipeline import Pipeline"
   ]
  },
  {
   "cell_type": "code",
   "execution_count": 7,
   "id": "4e8656af",
   "metadata": {},
   "outputs": [],
   "source": [
    "from sklearn.preprocessing import StandardScaler\n",
    "scaler1 = StandardScaler()\n",
    "scaler2 = StandardScaler()\n",
    "scaler3 = StandardScaler()"
   ]
  },
  {
   "cell_type": "code",
   "execution_count": 8,
   "id": "035283ee",
   "metadata": {},
   "outputs": [],
   "source": [
    "from sklearn.neighbors import KNeighborsClassifier\n",
    "knn1 = KNeighborsClassifier()\n",
    "knn2 = KNeighborsClassifier()\n",
    "knn3 = KNeighborsClassifier()"
   ]
  },
  {
   "cell_type": "code",
   "execution_count": 9,
   "id": "f3a4cbfa",
   "metadata": {},
   "outputs": [],
   "source": [
    "from sklearn.metrics import classification_report"
   ]
  },
  {
   "cell_type": "markdown",
   "id": "c6dd7897",
   "metadata": {},
   "source": [
    "# Do it manuilly"
   ]
  },
  {
   "cell_type": "code",
   "execution_count": 10,
   "id": "142dc60e",
   "metadata": {},
   "outputs": [],
   "source": [
    "scaler1.fit(X_train)\n",
    "X_train = scaler1.transform(X_train)\n",
    "X_test = scaler1.transform(X_test)"
   ]
  },
  {
   "cell_type": "code",
   "execution_count": 11,
   "id": "facd7ce2",
   "metadata": {},
   "outputs": [
    {
     "name": "stdout",
     "output_type": "stream",
     "text": [
      "              precision    recall  f1-score   support\n",
      "\n",
      "           0       0.93      0.92      0.93       423\n",
      "           1       0.93      0.94      0.94       477\n",
      "\n",
      "    accuracy                           0.93       900\n",
      "   macro avg       0.93      0.93      0.93       900\n",
      "weighted avg       0.93      0.93      0.93       900\n",
      "\n"
     ]
    }
   ],
   "source": [
    "knn1.fit(X_train,y_train)\n",
    "pred1=knn1.predict(X_test)\n",
    "print(classification_report(y_test,pred1))"
   ]
  },
  {
   "cell_type": "code",
   "execution_count": 12,
   "id": "75a1ca67",
   "metadata": {},
   "outputs": [],
   "source": [
    "# accuracy is 0.93"
   ]
  },
  {
   "cell_type": "markdown",
   "id": "26165c9e",
   "metadata": {},
   "source": [
    "# By using Pipeline"
   ]
  },
  {
   "cell_type": "code",
   "execution_count": 13,
   "id": "2120d6fe",
   "metadata": {},
   "outputs": [],
   "source": [
    "pipe1 = Pipeline([('scaler2',scaler2),\n",
    "                 ('knn2',knn2)])\n",
    "# can do many function each output will be input for the next & each will do (fit_transform) except the last will do (fit) only"
   ]
  },
  {
   "cell_type": "code",
   "execution_count": 14,
   "id": "2f224ba4",
   "metadata": {},
   "outputs": [
    {
     "data": {
      "text/plain": [
       "Pipeline(steps=[('scaler2', StandardScaler()),\n",
       "                ('knn2', KNeighborsClassifier())])"
      ]
     },
     "execution_count": 14,
     "metadata": {},
     "output_type": "execute_result"
    }
   ],
   "source": [
    "pipe1.fit(X_train , y_train)"
   ]
  },
  {
   "cell_type": "code",
   "execution_count": 15,
   "id": "4e76673a",
   "metadata": {},
   "outputs": [],
   "source": [
    "# now the model is ready ! \n",
    "pred2 = pipe1.predict(X_test)"
   ]
  },
  {
   "cell_type": "code",
   "execution_count": 16,
   "id": "ac9bbff6",
   "metadata": {},
   "outputs": [
    {
     "name": "stdout",
     "output_type": "stream",
     "text": [
      "              precision    recall  f1-score   support\n",
      "\n",
      "           0       0.93      0.92      0.93       423\n",
      "           1       0.93      0.94      0.94       477\n",
      "\n",
      "    accuracy                           0.93       900\n",
      "   macro avg       0.93      0.93      0.93       900\n",
      "weighted avg       0.93      0.93      0.93       900\n",
      "\n"
     ]
    }
   ],
   "source": [
    "print(classification_report(y_test,pred2))"
   ]
  },
  {
   "cell_type": "code",
   "execution_count": 17,
   "id": "7835fb79",
   "metadata": {},
   "outputs": [],
   "source": [
    "# accuracy is same 0.93\n",
    "# by using pipeline espicially if there is many function to do (in the example only two but can put as many as required) alot of\n",
    "# time can be saved and in additional it will orginize the code"
   ]
  },
  {
   "cell_type": "markdown",
   "id": "9216b493",
   "metadata": {},
   "source": [
    "# can be used with GridSearchCV"
   ]
  },
  {
   "cell_type": "code",
   "execution_count": 18,
   "id": "f9219b65",
   "metadata": {},
   "outputs": [],
   "source": [
    "from sklearn.model_selection import GridSearchCV"
   ]
  },
  {
   "cell_type": "code",
   "execution_count": 19,
   "id": "139cb313",
   "metadata": {},
   "outputs": [],
   "source": [
    "pipe2 = Pipeline([('scaler3',scaler3),\n",
    "                 ('knn3',knn3)])\n",
    "param_grid = {'knn3__n_neighbors': list(range(1,20))}\n",
    "# in param_grid to input the parameters ('model name + __ + parameter' : value)"
   ]
  },
  {
   "cell_type": "code",
   "execution_count": 20,
   "id": "24410721",
   "metadata": {},
   "outputs": [],
   "source": [
    "grid = GridSearchCV(pipe2 , param_grid=param_grid , cv=5 , scoring ='accuracy')"
   ]
  },
  {
   "cell_type": "code",
   "execution_count": 21,
   "id": "3453bdc0",
   "metadata": {},
   "outputs": [
    {
     "data": {
      "text/plain": [
       "GridSearchCV(cv=5,\n",
       "             estimator=Pipeline(steps=[('scaler3', StandardScaler()),\n",
       "                                       ('knn3', KNeighborsClassifier())]),\n",
       "             param_grid={'knn3__n_neighbors': [1, 2, 3, 4, 5, 6, 7, 8, 9, 10,\n",
       "                                               11, 12, 13, 14, 15, 16, 17, 18,\n",
       "                                               19]},\n",
       "             scoring='accuracy')"
      ]
     },
     "execution_count": 21,
     "metadata": {},
     "output_type": "execute_result"
    }
   ],
   "source": [
    "grid.fit(X_train , y_train)"
   ]
  },
  {
   "cell_type": "code",
   "execution_count": 22,
   "id": "c141639a",
   "metadata": {},
   "outputs": [
    {
     "data": {
      "text/plain": [
       "{'knn3__n_neighbors': 19}"
      ]
     },
     "execution_count": 22,
     "metadata": {},
     "output_type": "execute_result"
    }
   ],
   "source": [
    "grid.best_params_"
   ]
  },
  {
   "cell_type": "code",
   "execution_count": 23,
   "id": "a2bc3e86",
   "metadata": {},
   "outputs": [
    {
     "name": "stdout",
     "output_type": "stream",
     "text": [
      "              precision    recall  f1-score   support\n",
      "\n",
      "           0       0.94      0.92      0.93       423\n",
      "           1       0.93      0.95      0.94       477\n",
      "\n",
      "    accuracy                           0.94       900\n",
      "   macro avg       0.94      0.94      0.94       900\n",
      "weighted avg       0.94      0.94      0.94       900\n",
      "\n"
     ]
    }
   ],
   "source": [
    "pred4 = grid.predict(X_test)\n",
    "print(classification_report(y_test,pred4))"
   ]
  },
  {
   "cell_type": "code",
   "execution_count": null,
   "id": "d1484b1c",
   "metadata": {},
   "outputs": [],
   "source": []
  }
 ],
 "metadata": {
  "kernelspec": {
   "display_name": "Python 3 (ipykernel)",
   "language": "python",
   "name": "python3"
  },
  "language_info": {
   "codemirror_mode": {
    "name": "ipython",
    "version": 3
   },
   "file_extension": ".py",
   "mimetype": "text/x-python",
   "name": "python",
   "nbconvert_exporter": "python",
   "pygments_lexer": "ipython3",
   "version": "3.8.11"
  }
 },
 "nbformat": 4,
 "nbformat_minor": 5
}
