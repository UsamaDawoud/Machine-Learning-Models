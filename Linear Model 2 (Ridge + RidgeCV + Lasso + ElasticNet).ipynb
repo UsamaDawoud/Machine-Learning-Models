{
 "cells": [
  {
   "cell_type": "markdown",
   "id": "50a7556e",
   "metadata": {},
   "source": [
    "# Linear Model 2 Ridge + RidgeCV\n"
   ]
  },
  {
   "cell_type": "code",
   "execution_count": 1,
   "id": "98c4159e",
   "metadata": {},
   "outputs": [],
   "source": [
    "import numpy as np \n",
    "import pandas as pd"
   ]
  },
  {
   "cell_type": "code",
   "execution_count": 2,
   "id": "4463b2d3",
   "metadata": {},
   "outputs": [],
   "source": [
    "df = pd.read_csv(\"Advertising.csv\")"
   ]
  },
  {
   "cell_type": "code",
   "execution_count": 3,
   "id": "563beacd",
   "metadata": {},
   "outputs": [
    {
     "data": {
      "text/html": [
       "<div>\n",
       "<style scoped>\n",
       "    .dataframe tbody tr th:only-of-type {\n",
       "        vertical-align: middle;\n",
       "    }\n",
       "\n",
       "    .dataframe tbody tr th {\n",
       "        vertical-align: top;\n",
       "    }\n",
       "\n",
       "    .dataframe thead th {\n",
       "        text-align: right;\n",
       "    }\n",
       "</style>\n",
       "<table border=\"1\" class=\"dataframe\">\n",
       "  <thead>\n",
       "    <tr style=\"text-align: right;\">\n",
       "      <th></th>\n",
       "      <th>TV</th>\n",
       "      <th>radio</th>\n",
       "      <th>newspaper</th>\n",
       "      <th>sales</th>\n",
       "    </tr>\n",
       "  </thead>\n",
       "  <tbody>\n",
       "    <tr>\n",
       "      <th>0</th>\n",
       "      <td>230.1</td>\n",
       "      <td>37.8</td>\n",
       "      <td>69.2</td>\n",
       "      <td>22.1</td>\n",
       "    </tr>\n",
       "    <tr>\n",
       "      <th>1</th>\n",
       "      <td>44.5</td>\n",
       "      <td>39.3</td>\n",
       "      <td>45.1</td>\n",
       "      <td>10.4</td>\n",
       "    </tr>\n",
       "    <tr>\n",
       "      <th>2</th>\n",
       "      <td>17.2</td>\n",
       "      <td>45.9</td>\n",
       "      <td>69.3</td>\n",
       "      <td>9.3</td>\n",
       "    </tr>\n",
       "    <tr>\n",
       "      <th>3</th>\n",
       "      <td>151.5</td>\n",
       "      <td>41.3</td>\n",
       "      <td>58.5</td>\n",
       "      <td>18.5</td>\n",
       "    </tr>\n",
       "    <tr>\n",
       "      <th>4</th>\n",
       "      <td>180.8</td>\n",
       "      <td>10.8</td>\n",
       "      <td>58.4</td>\n",
       "      <td>12.9</td>\n",
       "    </tr>\n",
       "  </tbody>\n",
       "</table>\n",
       "</div>"
      ],
      "text/plain": [
       "      TV  radio  newspaper  sales\n",
       "0  230.1   37.8       69.2   22.1\n",
       "1   44.5   39.3       45.1   10.4\n",
       "2   17.2   45.9       69.3    9.3\n",
       "3  151.5   41.3       58.5   18.5\n",
       "4  180.8   10.8       58.4   12.9"
      ]
     },
     "execution_count": 3,
     "metadata": {},
     "output_type": "execute_result"
    }
   ],
   "source": [
    "df.head()"
   ]
  },
  {
   "cell_type": "code",
   "execution_count": 4,
   "id": "022827a9",
   "metadata": {},
   "outputs": [
    {
     "name": "stdout",
     "output_type": "stream",
     "text": [
      "<class 'pandas.core.frame.DataFrame'>\n",
      "RangeIndex: 200 entries, 0 to 199\n",
      "Data columns (total 4 columns):\n",
      " #   Column     Non-Null Count  Dtype  \n",
      "---  ------     --------------  -----  \n",
      " 0   TV         200 non-null    float64\n",
      " 1   radio      200 non-null    float64\n",
      " 2   newspaper  200 non-null    float64\n",
      " 3   sales      200 non-null    float64\n",
      "dtypes: float64(4)\n",
      "memory usage: 6.4 KB\n"
     ]
    }
   ],
   "source": [
    "df.info()"
   ]
  },
  {
   "cell_type": "markdown",
   "id": "f21dcdce",
   "metadata": {},
   "source": [
    "# To increase the accuracy a polynomial features is used "
   ]
  },
  {
   "cell_type": "code",
   "execution_count": 5,
   "id": "de43880b",
   "metadata": {},
   "outputs": [],
   "source": [
    "from sklearn.preprocessing import PolynomialFeatures"
   ]
  },
  {
   "cell_type": "code",
   "execution_count": 6,
   "id": "e16a26cf",
   "metadata": {},
   "outputs": [],
   "source": [
    "poly_converter = PolynomialFeatures(degree=4 ,include_bias=False)\n",
    "X=df.drop('sales',axis=1)\n",
    "y=df['sales']"
   ]
  },
  {
   "cell_type": "code",
   "execution_count": 7,
   "id": "8f8f6dc4",
   "metadata": {},
   "outputs": [],
   "source": [
    "polynomial_featured =poly_converter.fit_transform(X)"
   ]
  },
  {
   "cell_type": "code",
   "execution_count": 8,
   "id": "3db8effa",
   "metadata": {},
   "outputs": [],
   "source": [
    "from sklearn.model_selection import train_test_split "
   ]
  },
  {
   "cell_type": "code",
   "execution_count": 9,
   "id": "7e0aa043",
   "metadata": {},
   "outputs": [],
   "source": [
    "pX_train,pX_test , y_train,y_test = train_test_split(polynomial_featured,y,test_size=0.3,random_state=101)"
   ]
  },
  {
   "cell_type": "code",
   "execution_count": 10,
   "id": "dd439743",
   "metadata": {},
   "outputs": [],
   "source": [
    "from sklearn.linear_model import Ridge"
   ]
  },
  {
   "cell_type": "code",
   "execution_count": 11,
   "id": "6af1c25a",
   "metadata": {},
   "outputs": [],
   "source": [
    "from sklearn.preprocessing import StandardScaler"
   ]
  },
  {
   "cell_type": "code",
   "execution_count": 12,
   "id": "0f77a1b3",
   "metadata": {},
   "outputs": [
    {
     "data": {
      "text/plain": [
       "StandardScaler()"
      ]
     },
     "execution_count": 12,
     "metadata": {},
     "output_type": "execute_result"
    }
   ],
   "source": [
    "model = Ridge(alpha=10)\n",
    "scaler = StandardScaler()\n",
    "scaler.fit(pX_train)"
   ]
  },
  {
   "cell_type": "code",
   "execution_count": 13,
   "id": "49053368",
   "metadata": {},
   "outputs": [],
   "source": [
    "pX_train = scaler.transform(pX_train)\n",
    "pX_test = scaler.transform(pX_test)"
   ]
  },
  {
   "cell_type": "code",
   "execution_count": 14,
   "id": "7a341634",
   "metadata": {},
   "outputs": [
    {
     "data": {
      "text/plain": [
       "Ridge(alpha=10)"
      ]
     },
     "execution_count": 14,
     "metadata": {},
     "output_type": "execute_result"
    }
   ],
   "source": [
    "model.fit(pX_train,y_train)"
   ]
  },
  {
   "cell_type": "code",
   "execution_count": 15,
   "id": "56e4af98",
   "metadata": {},
   "outputs": [],
   "source": [
    "Rpred = model.predict(pX_test)"
   ]
  },
  {
   "cell_type": "code",
   "execution_count": 16,
   "id": "431c1f13",
   "metadata": {},
   "outputs": [],
   "source": [
    "from sklearn.metrics import mean_squared_error , mean_absolute_error "
   ]
  },
  {
   "cell_type": "code",
   "execution_count": 17,
   "id": "623bb541",
   "metadata": {},
   "outputs": [
    {
     "data": {
      "text/plain": [
       "0.9160353702370551"
      ]
     },
     "execution_count": 17,
     "metadata": {},
     "output_type": "execute_result"
    }
   ],
   "source": [
    "np.sqrt(mean_squared_error(y_test,Rpred))"
   ]
  },
  {
   "cell_type": "code",
   "execution_count": 18,
   "id": "1ed24a40",
   "metadata": {},
   "outputs": [
    {
     "data": {
      "text/plain": [
       "0.6079107187126626"
      ]
     },
     "execution_count": 18,
     "metadata": {},
     "output_type": "execute_result"
    }
   ],
   "source": [
    "mean_absolute_error(y_test,Rpred)"
   ]
  },
  {
   "cell_type": "markdown",
   "id": "a986784b",
   "metadata": {},
   "source": [
    "# Ridge "
   ]
  },
  {
   "cell_type": "code",
   "execution_count": 19,
   "id": "64073acc",
   "metadata": {},
   "outputs": [],
   "source": [
    "from sklearn.linear_model import RidgeCV"
   ]
  },
  {
   "cell_type": "code",
   "execution_count": 20,
   "id": "2543f030",
   "metadata": {},
   "outputs": [],
   "source": [
    "modelrcv= RidgeCV(alphas=(0.1,1.0,10))"
   ]
  },
  {
   "cell_type": "code",
   "execution_count": 21,
   "id": "eb6bbb94",
   "metadata": {},
   "outputs": [],
   "source": [
    "modelrcv.fit(pX_train,y_train)\n",
    "Rcvpred = modelrcv.predict(pX_test)"
   ]
  },
  {
   "cell_type": "code",
   "execution_count": 22,
   "id": "d0fdbf90",
   "metadata": {},
   "outputs": [
    {
     "data": {
      "text/plain": [
       "0.6242818489681624"
      ]
     },
     "execution_count": 22,
     "metadata": {},
     "output_type": "execute_result"
    }
   ],
   "source": [
    "np.sqrt(mean_squared_error(y_test,Rcvpred))"
   ]
  },
  {
   "cell_type": "code",
   "execution_count": 23,
   "id": "37030960",
   "metadata": {},
   "outputs": [
    {
     "data": {
      "text/plain": [
       "0.42422716289459417"
      ]
     },
     "execution_count": 23,
     "metadata": {},
     "output_type": "execute_result"
    }
   ],
   "source": [
    "mean_absolute_error(y_test,Rcvpred)"
   ]
  },
  {
   "cell_type": "code",
   "execution_count": 24,
   "id": "c9d1525a",
   "metadata": {},
   "outputs": [
    {
     "data": {
      "text/plain": [
       "0.1"
      ]
     },
     "execution_count": 24,
     "metadata": {},
     "output_type": "execute_result"
    }
   ],
   "source": [
    "# to find the pest alpha value\n",
    "modelrcv.alpha_"
   ]
  },
  {
   "cell_type": "code",
   "execution_count": 25,
   "id": "ad81de62",
   "metadata": {},
   "outputs": [],
   "source": [
    "# With RidgeCV the results is better "
   ]
  },
  {
   "cell_type": "code",
   "execution_count": 26,
   "id": "ab1b57ea",
   "metadata": {},
   "outputs": [
    {
     "data": {
      "text/plain": [
       "array([ 5.07665809,  0.69581004,  0.3719049 , -4.01391514,  3.8488346 ,\n",
       "       -0.56376907, -0.84743483,  0.48029363, -0.43721227, -0.46487399,\n",
       "       -1.74834461, -0.84928794,  2.18893967, -0.30026264,  0.41337395,\n",
       "       -0.68655586,  0.28318356, -0.51573875,  0.87590086,  1.10213681,\n",
       "        1.53908841,  0.88777377, -2.14518671,  0.23163482,  0.52256028,\n",
       "        0.60556143, -0.37374377,  0.22760633, -0.78495661,  0.4796754 ,\n",
       "       -0.07194254, -0.07792478,  0.12231745, -0.3446115 ])"
      ]
     },
     "execution_count": 26,
     "metadata": {},
     "output_type": "execute_result"
    }
   ],
   "source": [
    "modelrcv.coef_"
   ]
  },
  {
   "cell_type": "code",
   "execution_count": 27,
   "id": "5169ac1c",
   "metadata": {},
   "outputs": [
    {
     "data": {
      "text/plain": [
       "array([ 1.99444162,  0.63522105,  0.0052737 ,  0.37599236,  1.67014155,\n",
       "        0.36018879,  0.05348105,  0.2031058 , -0.05596467, -0.22530702,\n",
       "        0.49691819, -0.1863154 ,  0.90236119,  0.29966359,  0.07309324,\n",
       "       -0.16156678, -0.02552639,  0.03503848, -0.02780858, -0.44022449,\n",
       "       -0.03254158, -0.34956696,  0.0172993 , -0.18691283, -0.15906923,\n",
       "        0.45349576,  0.0098378 ,  0.09218193,  0.04638876, -0.21778765,\n",
       "       -0.14881337, -0.07961385,  0.01444889,  0.01302114])"
      ]
     },
     "execution_count": 27,
     "metadata": {},
     "output_type": "execute_result"
    }
   ],
   "source": [
    "model.coef_"
   ]
  },
  {
   "cell_type": "code",
   "execution_count": 28,
   "id": "b9d530a4",
   "metadata": {},
   "outputs": [],
   "source": [
    "# There is alot of error masurement and can be found by\n",
    "from sklearn.metrics import SCORERS"
   ]
  },
  {
   "cell_type": "code",
   "execution_count": 29,
   "id": "023a4543",
   "metadata": {},
   "outputs": [
    {
     "data": {
      "text/plain": [
       "dict_keys(['explained_variance', 'r2', 'max_error', 'neg_median_absolute_error', 'neg_mean_absolute_error', 'neg_mean_absolute_percentage_error', 'neg_mean_squared_error', 'neg_mean_squared_log_error', 'neg_root_mean_squared_error', 'neg_mean_poisson_deviance', 'neg_mean_gamma_deviance', 'accuracy', 'top_k_accuracy', 'roc_auc', 'roc_auc_ovr', 'roc_auc_ovo', 'roc_auc_ovr_weighted', 'roc_auc_ovo_weighted', 'balanced_accuracy', 'average_precision', 'neg_log_loss', 'neg_brier_score', 'adjusted_rand_score', 'rand_score', 'homogeneity_score', 'completeness_score', 'v_measure_score', 'mutual_info_score', 'adjusted_mutual_info_score', 'normalized_mutual_info_score', 'fowlkes_mallows_score', 'precision', 'precision_macro', 'precision_micro', 'precision_samples', 'precision_weighted', 'recall', 'recall_macro', 'recall_micro', 'recall_samples', 'recall_weighted', 'f1', 'f1_macro', 'f1_micro', 'f1_samples', 'f1_weighted', 'jaccard', 'jaccard_macro', 'jaccard_micro', 'jaccard_samples', 'jaccard_weighted'])"
      ]
     },
     "execution_count": 29,
     "metadata": {},
     "output_type": "execute_result"
    }
   ],
   "source": [
    "SCORERS.keys()"
   ]
  },
  {
   "cell_type": "code",
   "execution_count": 30,
   "id": "de8703a9",
   "metadata": {},
   "outputs": [],
   "source": [
    "# All these mesurement readed as that ( as higher value as better ) not like the before tools "
   ]
  },
  {
   "cell_type": "markdown",
   "id": "a0ee6f3d",
   "metadata": {},
   "source": [
    "# Lasso"
   ]
  },
  {
   "cell_type": "code",
   "execution_count": 31,
   "id": "a7c51a2e",
   "metadata": {},
   "outputs": [],
   "source": [
    "# Lasso (if there are no entry for alpha then automatically will provided )\n",
    "# eps = alpha min / alpha max"
   ]
  },
  {
   "cell_type": "code",
   "execution_count": 32,
   "id": "52f4dde8",
   "metadata": {},
   "outputs": [],
   "source": [
    "from sklearn.linear_model import LassoCV"
   ]
  },
  {
   "cell_type": "code",
   "execution_count": 33,
   "id": "5cb0422d",
   "metadata": {},
   "outputs": [],
   "source": [
    "lassocv_model = LassoCV(eps=0.001, n_alphas=100, cv=5 )\n",
    "# all these is defualt values \n",
    "# if there is a worning appear , then max_iter can be increased (defualt = 1000)"
   ]
  },
  {
   "cell_type": "code",
   "execution_count": 34,
   "id": "33139ac2",
   "metadata": {},
   "outputs": [
    {
     "data": {
      "text/plain": [
       "LassoCV(cv=5)"
      ]
     },
     "execution_count": 34,
     "metadata": {},
     "output_type": "execute_result"
    }
   ],
   "source": [
    "lassocv_model.fit(pX_train,y_train)"
   ]
  },
  {
   "cell_type": "code",
   "execution_count": 35,
   "id": "585019e5",
   "metadata": {},
   "outputs": [
    {
     "data": {
      "text/plain": [
       "0.004943070909225827"
      ]
     },
     "execution_count": 35,
     "metadata": {},
     "output_type": "execute_result"
    }
   ],
   "source": [
    "# To find out the alpha value \n",
    "lassocv_model.alpha_"
   ]
  },
  {
   "cell_type": "code",
   "execution_count": 36,
   "id": "344bca1f",
   "metadata": {},
   "outputs": [],
   "source": [
    "lassocv_pred = lassocv_model.predict(pX_test)"
   ]
  },
  {
   "cell_type": "code",
   "execution_count": 37,
   "id": "fef0739a",
   "metadata": {},
   "outputs": [
    {
     "data": {
      "text/plain": [
       "0.589236408649863"
      ]
     },
     "execution_count": 37,
     "metadata": {},
     "output_type": "execute_result"
    }
   ],
   "source": [
    "np.sqrt(mean_squared_error(y_test,lassocv_pred))"
   ]
  },
  {
   "cell_type": "code",
   "execution_count": 38,
   "id": "e44b68ab",
   "metadata": {},
   "outputs": [
    {
     "data": {
      "text/plain": [
       "0.42009796286848056"
      ]
     },
     "execution_count": 38,
     "metadata": {},
     "output_type": "execute_result"
    }
   ],
   "source": [
    "mean_absolute_error(y_test,lassocv_pred)"
   ]
  },
  {
   "cell_type": "code",
   "execution_count": 39,
   "id": "6aadc6cb",
   "metadata": {},
   "outputs": [
    {
     "data": {
      "text/plain": [
       "array([ 5.06722606e+00,  1.37480166e-01,  2.64113607e-01, -4.66509073e+00,\n",
       "        4.48924376e+00, -2.84145793e-01, -0.00000000e+00,  3.46812297e-02,\n",
       "       -0.00000000e+00,  0.00000000e+00, -7.42380716e-01, -0.00000000e+00,\n",
       "        0.00000000e+00, -4.05258140e-02, -0.00000000e+00, -0.00000000e+00,\n",
       "        0.00000000e+00, -0.00000000e+00, -0.00000000e+00,  1.29109806e+00,\n",
       "       -0.00000000e+00,  4.87012825e-02, -0.00000000e+00, -0.00000000e+00,\n",
       "       -0.00000000e+00,  8.80333598e-02, -0.00000000e+00, -0.00000000e+00,\n",
       "       -4.92565307e-03,  0.00000000e+00,  0.00000000e+00, -0.00000000e+00,\n",
       "       -0.00000000e+00, -0.00000000e+00])"
      ]
     },
     "execution_count": 39,
     "metadata": {},
     "output_type": "execute_result"
    }
   ],
   "source": [
    "lassocv_model.coef_"
   ]
  },
  {
   "cell_type": "code",
   "execution_count": 40,
   "id": "da071f9a",
   "metadata": {},
   "outputs": [],
   "source": [
    "# LassoCV usually  not giving results as good as RidgeCv but it have many coef. equal to zero which give less complex\n"
   ]
  },
  {
   "cell_type": "markdown",
   "id": "e0113c9a",
   "metadata": {},
   "source": [
    "# ElasticNetCV"
   ]
  },
  {
   "cell_type": "code",
   "execution_count": 41,
   "id": "7763ab81",
   "metadata": {},
   "outputs": [],
   "source": [
    "from sklearn.linear_model import ElasticNetCV"
   ]
  },
  {
   "cell_type": "code",
   "execution_count": 42,
   "id": "9de2836b",
   "metadata": {},
   "outputs": [],
   "source": [
    "elasticcv_model = ElasticNetCV(l1_ratio =[ 0.1, 0.5,0.7,0.9,0.9,0.95,0.99,1],eps=0.001, n_alphas=100 , max_iter=1000000)\n",
    "# l1_ratio = ratio of the model toward RadgeCV or LassoCV --> as increased it will directed toward LassoCV"
   ]
  },
  {
   "cell_type": "code",
   "execution_count": 43,
   "id": "31eba57b",
   "metadata": {},
   "outputs": [
    {
     "data": {
      "text/plain": [
       "ElasticNetCV(l1_ratio=[0.1, 0.5, 0.7, 0.9, 0.9, 0.95, 0.99, 1],\n",
       "             max_iter=1000000)"
      ]
     },
     "execution_count": 43,
     "metadata": {},
     "output_type": "execute_result"
    }
   ],
   "source": [
    "elasticcv_model.fit(pX_train,y_train)"
   ]
  },
  {
   "cell_type": "code",
   "execution_count": 44,
   "id": "d8cdcad8",
   "metadata": {},
   "outputs": [
    {
     "data": {
      "text/plain": [
       "1.0"
      ]
     },
     "execution_count": 44,
     "metadata": {},
     "output_type": "execute_result"
    }
   ],
   "source": [
    "elasticcv_model.l1_ratio_"
   ]
  },
  {
   "cell_type": "code",
   "execution_count": 45,
   "id": "bf725ebe",
   "metadata": {},
   "outputs": [],
   "source": [
    "pred_elasticcv = elasticcv_model.predict(pX_test)"
   ]
  },
  {
   "cell_type": "code",
   "execution_count": 46,
   "id": "8f93c1a5",
   "metadata": {},
   "outputs": [
    {
     "data": {
      "text/plain": [
       "0.589236408649863"
      ]
     },
     "execution_count": 46,
     "metadata": {},
     "output_type": "execute_result"
    }
   ],
   "source": [
    "np.sqrt(mean_squared_error(y_test,pred_elasticcv))"
   ]
  },
  {
   "cell_type": "code",
   "execution_count": 47,
   "id": "e42cf2f9",
   "metadata": {},
   "outputs": [
    {
     "data": {
      "text/plain": [
       "0.42009796286848056"
      ]
     },
     "execution_count": 47,
     "metadata": {},
     "output_type": "execute_result"
    }
   ],
   "source": [
    "mean_absolute_error(y_test,pred_elasticcv)"
   ]
  },
  {
   "cell_type": "code",
   "execution_count": 48,
   "id": "0f9883f8",
   "metadata": {},
   "outputs": [
    {
     "data": {
      "text/plain": [
       "array([ 5.06722606e+00,  1.37480166e-01,  2.64113607e-01, -4.66509073e+00,\n",
       "        4.48924376e+00, -2.84145793e-01, -0.00000000e+00,  3.46812297e-02,\n",
       "       -0.00000000e+00,  0.00000000e+00, -7.42380716e-01, -0.00000000e+00,\n",
       "        0.00000000e+00, -4.05258140e-02, -0.00000000e+00, -0.00000000e+00,\n",
       "        0.00000000e+00, -0.00000000e+00, -0.00000000e+00,  1.29109806e+00,\n",
       "       -0.00000000e+00,  4.87012825e-02, -0.00000000e+00, -0.00000000e+00,\n",
       "       -0.00000000e+00,  8.80333598e-02, -0.00000000e+00, -0.00000000e+00,\n",
       "       -4.92565307e-03,  0.00000000e+00,  0.00000000e+00, -0.00000000e+00,\n",
       "       -0.00000000e+00, -0.00000000e+00])"
      ]
     },
     "execution_count": 48,
     "metadata": {},
     "output_type": "execute_result"
    }
   ],
   "source": [
    "elasticcv_model.coef_"
   ]
  },
  {
   "cell_type": "code",
   "execution_count": null,
   "id": "c6ea0841",
   "metadata": {},
   "outputs": [],
   "source": []
  },
  {
   "cell_type": "code",
   "execution_count": null,
   "id": "0c7d01cb",
   "metadata": {},
   "outputs": [],
   "source": []
  }
 ],
 "metadata": {
  "kernelspec": {
   "display_name": "Python 3",
   "language": "python",
   "name": "python3"
  },
  "language_info": {
   "codemirror_mode": {
    "name": "ipython",
    "version": 3
   },
   "file_extension": ".py",
   "mimetype": "text/x-python",
   "name": "python",
   "nbconvert_exporter": "python",
   "pygments_lexer": "ipython3",
   "version": "3.8.11"
  }
 },
 "nbformat": 4,
 "nbformat_minor": 5
}
