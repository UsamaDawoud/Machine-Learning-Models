{
 "cells": [
  {
   "cell_type": "markdown",
   "id": "8130ba52",
   "metadata": {},
   "source": [
    "# Cross Validation "
   ]
  },
  {
   "cell_type": "code",
   "execution_count": 1,
   "id": "5d6f92e0",
   "metadata": {},
   "outputs": [],
   "source": [
    "#  first I will do it manualy and then Automatically "
   ]
  },
  {
   "cell_type": "code",
   "execution_count": 2,
   "id": "7af9e42b",
   "metadata": {},
   "outputs": [],
   "source": [
    "import numpy as np\n",
    "import pandas as pd"
   ]
  },
  {
   "cell_type": "code",
   "execution_count": 3,
   "id": "324e4874",
   "metadata": {},
   "outputs": [],
   "source": [
    "df = pd.read_csv('Advertising.csv')"
   ]
  },
  {
   "cell_type": "code",
   "execution_count": 4,
   "id": "d309e37e",
   "metadata": {},
   "outputs": [
    {
     "data": {
      "text/html": [
       "<div>\n",
       "<style scoped>\n",
       "    .dataframe tbody tr th:only-of-type {\n",
       "        vertical-align: middle;\n",
       "    }\n",
       "\n",
       "    .dataframe tbody tr th {\n",
       "        vertical-align: top;\n",
       "    }\n",
       "\n",
       "    .dataframe thead th {\n",
       "        text-align: right;\n",
       "    }\n",
       "</style>\n",
       "<table border=\"1\" class=\"dataframe\">\n",
       "  <thead>\n",
       "    <tr style=\"text-align: right;\">\n",
       "      <th></th>\n",
       "      <th>TV</th>\n",
       "      <th>radio</th>\n",
       "      <th>newspaper</th>\n",
       "      <th>sales</th>\n",
       "    </tr>\n",
       "  </thead>\n",
       "  <tbody>\n",
       "    <tr>\n",
       "      <th>0</th>\n",
       "      <td>230.1</td>\n",
       "      <td>37.8</td>\n",
       "      <td>69.2</td>\n",
       "      <td>22.1</td>\n",
       "    </tr>\n",
       "    <tr>\n",
       "      <th>1</th>\n",
       "      <td>44.5</td>\n",
       "      <td>39.3</td>\n",
       "      <td>45.1</td>\n",
       "      <td>10.4</td>\n",
       "    </tr>\n",
       "    <tr>\n",
       "      <th>2</th>\n",
       "      <td>17.2</td>\n",
       "      <td>45.9</td>\n",
       "      <td>69.3</td>\n",
       "      <td>9.3</td>\n",
       "    </tr>\n",
       "    <tr>\n",
       "      <th>3</th>\n",
       "      <td>151.5</td>\n",
       "      <td>41.3</td>\n",
       "      <td>58.5</td>\n",
       "      <td>18.5</td>\n",
       "    </tr>\n",
       "    <tr>\n",
       "      <th>4</th>\n",
       "      <td>180.8</td>\n",
       "      <td>10.8</td>\n",
       "      <td>58.4</td>\n",
       "      <td>12.9</td>\n",
       "    </tr>\n",
       "  </tbody>\n",
       "</table>\n",
       "</div>"
      ],
      "text/plain": [
       "      TV  radio  newspaper  sales\n",
       "0  230.1   37.8       69.2   22.1\n",
       "1   44.5   39.3       45.1   10.4\n",
       "2   17.2   45.9       69.3    9.3\n",
       "3  151.5   41.3       58.5   18.5\n",
       "4  180.8   10.8       58.4   12.9"
      ]
     },
     "execution_count": 4,
     "metadata": {},
     "output_type": "execute_result"
    }
   ],
   "source": [
    "df.head()"
   ]
  },
  {
   "cell_type": "code",
   "execution_count": 5,
   "id": "e7dc673e",
   "metadata": {},
   "outputs": [
    {
     "name": "stdout",
     "output_type": "stream",
     "text": [
      "<class 'pandas.core.frame.DataFrame'>\n",
      "RangeIndex: 200 entries, 0 to 199\n",
      "Data columns (total 4 columns):\n",
      " #   Column     Non-Null Count  Dtype  \n",
      "---  ------     --------------  -----  \n",
      " 0   TV         200 non-null    float64\n",
      " 1   radio      200 non-null    float64\n",
      " 2   newspaper  200 non-null    float64\n",
      " 3   sales      200 non-null    float64\n",
      "dtypes: float64(4)\n",
      "memory usage: 6.4 KB\n"
     ]
    }
   ],
   "source": [
    "df.info()"
   ]
  },
  {
   "cell_type": "code",
   "execution_count": 6,
   "id": "771f29c9",
   "metadata": {},
   "outputs": [],
   "source": [
    "from sklearn.preprocessing import PolynomialFeatures"
   ]
  },
  {
   "cell_type": "code",
   "execution_count": 7,
   "id": "96cab1e2",
   "metadata": {},
   "outputs": [],
   "source": [
    "X = df.drop('sales',axis=1)"
   ]
  },
  {
   "cell_type": "code",
   "execution_count": 8,
   "id": "12d43d1e",
   "metadata": {},
   "outputs": [],
   "source": [
    "y=df['sales']"
   ]
  },
  {
   "cell_type": "code",
   "execution_count": 9,
   "id": "bf6ef079",
   "metadata": {},
   "outputs": [],
   "source": [
    "poly_model = PolynomialFeatures(degree=4 , include_bias=False)"
   ]
  },
  {
   "cell_type": "code",
   "execution_count": 10,
   "id": "44fec41c",
   "metadata": {},
   "outputs": [],
   "source": [
    "pX = poly_model.fit_transform(X)"
   ]
  },
  {
   "cell_type": "code",
   "execution_count": 11,
   "id": "16a84aa6",
   "metadata": {},
   "outputs": [
    {
     "data": {
      "text/plain": [
       "(200, 3)"
      ]
     },
     "execution_count": 11,
     "metadata": {},
     "output_type": "execute_result"
    }
   ],
   "source": [
    "X.shape"
   ]
  },
  {
   "cell_type": "code",
   "execution_count": 12,
   "id": "678b7e23",
   "metadata": {},
   "outputs": [
    {
     "data": {
      "text/plain": [
       "(200, 34)"
      ]
     },
     "execution_count": 12,
     "metadata": {},
     "output_type": "execute_result"
    }
   ],
   "source": [
    "pX.shape"
   ]
  },
  {
   "cell_type": "code",
   "execution_count": 13,
   "id": "afd0bd61",
   "metadata": {},
   "outputs": [],
   "source": [
    "from sklearn.model_selection import train_test_split"
   ]
  },
  {
   "cell_type": "code",
   "execution_count": 14,
   "id": "bd350a95",
   "metadata": {},
   "outputs": [],
   "source": [
    "X_train,X_other , y_train , y_other = train_test_split(pX,y, test_size=0.3,random_state=101)"
   ]
  },
  {
   "cell_type": "code",
   "execution_count": 15,
   "id": "7870ff61",
   "metadata": {},
   "outputs": [],
   "source": [
    "X_test1,X_test2 , y_test1 , y_test2 = train_test_split(X_other,y_other, test_size=0.5,random_state=101)"
   ]
  },
  {
   "cell_type": "code",
   "execution_count": 16,
   "id": "51196f19",
   "metadata": {},
   "outputs": [],
   "source": [
    "from sklearn.preprocessing import StandardScaler"
   ]
  },
  {
   "cell_type": "code",
   "execution_count": 17,
   "id": "fdb81973",
   "metadata": {},
   "outputs": [],
   "source": [
    "scaler = StandardScaler()"
   ]
  },
  {
   "cell_type": "code",
   "execution_count": 18,
   "id": "55bd8714",
   "metadata": {},
   "outputs": [
    {
     "data": {
      "text/plain": [
       "StandardScaler()"
      ]
     },
     "execution_count": 18,
     "metadata": {},
     "output_type": "execute_result"
    }
   ],
   "source": [
    "scaler.fit(X_train)"
   ]
  },
  {
   "cell_type": "code",
   "execution_count": 19,
   "id": "a10acebc",
   "metadata": {},
   "outputs": [],
   "source": [
    "X_train = scaler.transform(X_train)"
   ]
  },
  {
   "cell_type": "code",
   "execution_count": 20,
   "id": "2597e902",
   "metadata": {},
   "outputs": [],
   "source": [
    "X_test1 = scaler.transform(X_test1)\n",
    "X_test2 = scaler.transform(X_test2)"
   ]
  },
  {
   "cell_type": "code",
   "execution_count": 21,
   "id": "44ca1621",
   "metadata": {},
   "outputs": [],
   "source": [
    "from sklearn.linear_model import RidgeCV"
   ]
  },
  {
   "cell_type": "code",
   "execution_count": 22,
   "id": "22cd52f3",
   "metadata": {},
   "outputs": [],
   "source": [
    "model1 = RidgeCV(alphas=(0.1))"
   ]
  },
  {
   "cell_type": "code",
   "execution_count": 23,
   "id": "ddf5469a",
   "metadata": {},
   "outputs": [
    {
     "data": {
      "text/plain": [
       "RidgeCV(alphas=array(0.1))"
      ]
     },
     "execution_count": 23,
     "metadata": {},
     "output_type": "execute_result"
    }
   ],
   "source": [
    "model1.fit(X_train,y_train)"
   ]
  },
  {
   "cell_type": "code",
   "execution_count": 24,
   "id": "dbb7ec9f",
   "metadata": {},
   "outputs": [],
   "source": [
    "pred1=model1.predict(X_test1)"
   ]
  },
  {
   "cell_type": "code",
   "execution_count": 25,
   "id": "9ea693df",
   "metadata": {},
   "outputs": [],
   "source": [
    "from sklearn.metrics import mean_absolute_error , mean_squared_error"
   ]
  },
  {
   "cell_type": "code",
   "execution_count": 26,
   "id": "07ff22da",
   "metadata": {},
   "outputs": [
    {
     "data": {
      "text/plain": [
       "0.45787061708283355"
      ]
     },
     "execution_count": 26,
     "metadata": {},
     "output_type": "execute_result"
    }
   ],
   "source": [
    "mean_absolute_error(y_test1, pred1)"
   ]
  },
  {
   "cell_type": "code",
   "execution_count": 27,
   "id": "5cc3ee8e",
   "metadata": {},
   "outputs": [],
   "source": [
    "model2 = RidgeCV(alphas=(1))"
   ]
  },
  {
   "cell_type": "code",
   "execution_count": 28,
   "id": "cf4df990",
   "metadata": {},
   "outputs": [
    {
     "data": {
      "text/plain": [
       "RidgeCV(alphas=array(1))"
      ]
     },
     "execution_count": 28,
     "metadata": {},
     "output_type": "execute_result"
    }
   ],
   "source": [
    "model2.fit(X_train,y_train)"
   ]
  },
  {
   "cell_type": "code",
   "execution_count": 29,
   "id": "d226d341",
   "metadata": {},
   "outputs": [],
   "source": [
    "pred2 = model2.predict(X_test1)"
   ]
  },
  {
   "cell_type": "code",
   "execution_count": 30,
   "id": "38dccad4",
   "metadata": {},
   "outputs": [
    {
     "data": {
      "text/plain": [
       "0.5650404631420227"
      ]
     },
     "execution_count": 30,
     "metadata": {},
     "output_type": "execute_result"
    }
   ],
   "source": [
    "mean_absolute_error(y_test1, pred2)"
   ]
  },
  {
   "cell_type": "code",
   "execution_count": 31,
   "id": "ca44b4a1",
   "metadata": {},
   "outputs": [
    {
     "data": {
      "text/plain": [
       "0.4652323977963218"
      ]
     },
     "execution_count": 31,
     "metadata": {},
     "output_type": "execute_result"
    }
   ],
   "source": [
    "model3 = RidgeCV(alphas=(0.01))\n",
    "model3.fit(X_train,y_train)\n",
    "pred3=model3.predict(X_test1)\n",
    "mean_absolute_error(y_test1, pred3)"
   ]
  },
  {
   "cell_type": "code",
   "execution_count": 32,
   "id": "ce0fff2e",
   "metadata": {},
   "outputs": [
    {
     "data": {
      "text/plain": [
       "0.3905837087063549"
      ]
     },
     "execution_count": 32,
     "metadata": {},
     "output_type": "execute_result"
    }
   ],
   "source": [
    "# model1 is the best (alpha = 0.1) \n",
    "# now will check it with the final test set\n",
    "\n",
    "pred_final=model1.predict(X_test2)\n",
    "mean_absolute_error(y_test2, pred_final)"
   ]
  },
  {
   "cell_type": "markdown",
   "id": "7f22339d",
   "metadata": {},
   "source": [
    "# Automatic Cross Validation train test split"
   ]
  },
  {
   "cell_type": "code",
   "execution_count": 33,
   "id": "812eee6e",
   "metadata": {},
   "outputs": [],
   "source": [
    "X_train,X_test , y_train , y_test = train_test_split(pX,y, test_size=0.3,random_state=101)"
   ]
  },
  {
   "cell_type": "code",
   "execution_count": 34,
   "id": "c0904d10",
   "metadata": {},
   "outputs": [
    {
     "data": {
      "text/plain": [
       "(200, 3)"
      ]
     },
     "execution_count": 34,
     "metadata": {},
     "output_type": "execute_result"
    }
   ],
   "source": [
    "X.shape"
   ]
  },
  {
   "cell_type": "code",
   "execution_count": 35,
   "id": "ac54fc71",
   "metadata": {},
   "outputs": [
    {
     "data": {
      "text/plain": [
       "StandardScaler()"
      ]
     },
     "execution_count": 35,
     "metadata": {},
     "output_type": "execute_result"
    }
   ],
   "source": [
    "scaler.fit(X_train)"
   ]
  },
  {
   "cell_type": "code",
   "execution_count": 36,
   "id": "a919a124",
   "metadata": {},
   "outputs": [],
   "source": [
    "X_train = scaler.transform(X_train)\n",
    "X_test = scaler.transform(X_test)"
   ]
  },
  {
   "cell_type": "code",
   "execution_count": 37,
   "id": "7804f554",
   "metadata": {},
   "outputs": [],
   "source": [
    "from sklearn.linear_model import Ridge\n",
    "model = Ridge(alpha =100)"
   ]
  },
  {
   "cell_type": "code",
   "execution_count": 38,
   "id": "0d8d4024",
   "metadata": {},
   "outputs": [],
   "source": [
    "from sklearn.model_selection import cross_val_score"
   ]
  },
  {
   "cell_type": "code",
   "execution_count": 39,
   "id": "19c12629",
   "metadata": {},
   "outputs": [],
   "source": [
    "score = cross_val_score( model ,X_train , y_train, scoring='neg_mean_squared_error',cv=5)"
   ]
  },
  {
   "cell_type": "code",
   "execution_count": 40,
   "id": "27abc2f6",
   "metadata": {},
   "outputs": [
    {
     "data": {
      "text/plain": [
       "array([-2.06331443, -1.89142   , -4.41941353, -2.73813785, -3.10557388])"
      ]
     },
     "execution_count": 40,
     "metadata": {},
     "output_type": "execute_result"
    }
   ],
   "source": [
    "score"
   ]
  },
  {
   "cell_type": "code",
   "execution_count": 41,
   "id": "9c1a035e",
   "metadata": {},
   "outputs": [
    {
     "data": {
      "text/plain": [
       "2.843571938987446"
      ]
     },
     "execution_count": 41,
     "metadata": {},
     "output_type": "execute_result"
    }
   ],
   "source": [
    "# to check the model performance ('neg_mean_squared_error' , as bigger as better)\n",
    "\n",
    "abs(score.mean())"
   ]
  },
  {
   "cell_type": "code",
   "execution_count": 42,
   "id": "d288a1f8",
   "metadata": {},
   "outputs": [],
   "source": [
    "model2 = Ridge(alpha =1)"
   ]
  },
  {
   "cell_type": "code",
   "execution_count": 43,
   "id": "89a4a4c8",
   "metadata": {},
   "outputs": [],
   "source": [
    "score2 = cross_val_score( model2 ,X_train , y_train, scoring='neg_mean_squared_error',cv=5)"
   ]
  },
  {
   "cell_type": "code",
   "execution_count": 44,
   "id": "1db4b1d7",
   "metadata": {},
   "outputs": [
    {
     "data": {
      "text/plain": [
       "array([-0.38513955, -0.36338174, -1.47189031, -0.24970889, -0.2551233 ])"
      ]
     },
     "execution_count": 44,
     "metadata": {},
     "output_type": "execute_result"
    }
   ],
   "source": [
    "score2 "
   ]
  },
  {
   "cell_type": "code",
   "execution_count": 45,
   "id": "62d56270",
   "metadata": {},
   "outputs": [
    {
     "data": {
      "text/plain": [
       "0.5450487577351942"
      ]
     },
     "execution_count": 45,
     "metadata": {},
     "output_type": "execute_result"
    }
   ],
   "source": [
    "abs(score2.mean())"
   ]
  },
  {
   "cell_type": "code",
   "execution_count": 46,
   "id": "0e7e835d",
   "metadata": {},
   "outputs": [
    {
     "data": {
      "text/plain": [
       "Ridge(alpha=1)"
      ]
     },
     "execution_count": 46,
     "metadata": {},
     "output_type": "execute_result"
    }
   ],
   "source": [
    "model2.fit(X_train,y_train)"
   ]
  },
  {
   "cell_type": "code",
   "execution_count": 47,
   "id": "6e5c0eef",
   "metadata": {},
   "outputs": [],
   "source": [
    "pred_final_test = model2.predict(X_test)"
   ]
  },
  {
   "cell_type": "code",
   "execution_count": 48,
   "id": "d9642ef9",
   "metadata": {},
   "outputs": [
    {
     "data": {
      "text/plain": [
       "0.5064084053148216"
      ]
     },
     "execution_count": 48,
     "metadata": {},
     "output_type": "execute_result"
    }
   ],
   "source": [
    "mean_squared_error(y_test,pred_final_test )"
   ]
  },
  {
   "cell_type": "code",
   "execution_count": 49,
   "id": "4b0b70d7",
   "metadata": {},
   "outputs": [],
   "source": [
    "# model1 is better than model2 "
   ]
  },
  {
   "cell_type": "code",
   "execution_count": null,
   "id": "bb1c0866",
   "metadata": {},
   "outputs": [],
   "source": []
  }
 ],
 "metadata": {
  "kernelspec": {
   "display_name": "Python 3 (ipykernel)",
   "language": "python",
   "name": "python3"
  },
  "language_info": {
   "codemirror_mode": {
    "name": "ipython",
    "version": 3
   },
   "file_extension": ".py",
   "mimetype": "text/x-python",
   "name": "python",
   "nbconvert_exporter": "python",
   "pygments_lexer": "ipython3",
   "version": "3.8.11"
  }
 },
 "nbformat": 4,
 "nbformat_minor": 5
}
