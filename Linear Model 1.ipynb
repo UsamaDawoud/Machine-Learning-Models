{
 "cells": [
  {
   "cell_type": "markdown",
   "id": "d377cab1",
   "metadata": {},
   "source": [
    "# Linear Model"
   ]
  },
  {
   "cell_type": "code",
   "execution_count": 1,
   "id": "c25d3919",
   "metadata": {},
   "outputs": [],
   "source": [
    "import numpy as np \n",
    "import pandas as pd\n",
    "import matplotlib.pyplot as plt\n",
    "import seaborn as sns"
   ]
  },
  {
   "cell_type": "code",
   "execution_count": 2,
   "id": "572771d9",
   "metadata": {},
   "outputs": [],
   "source": [
    "# Reading the data file \n",
    "df = pd.read_csv(\"Advertising.csv\")"
   ]
  },
  {
   "cell_type": "code",
   "execution_count": 3,
   "id": "df9415c4",
   "metadata": {},
   "outputs": [
    {
     "data": {
      "text/html": [
       "<div>\n",
       "<style scoped>\n",
       "    .dataframe tbody tr th:only-of-type {\n",
       "        vertical-align: middle;\n",
       "    }\n",
       "\n",
       "    .dataframe tbody tr th {\n",
       "        vertical-align: top;\n",
       "    }\n",
       "\n",
       "    .dataframe thead th {\n",
       "        text-align: right;\n",
       "    }\n",
       "</style>\n",
       "<table border=\"1\" class=\"dataframe\">\n",
       "  <thead>\n",
       "    <tr style=\"text-align: right;\">\n",
       "      <th></th>\n",
       "      <th>TV</th>\n",
       "      <th>radio</th>\n",
       "      <th>newspaper</th>\n",
       "      <th>sales</th>\n",
       "    </tr>\n",
       "  </thead>\n",
       "  <tbody>\n",
       "    <tr>\n",
       "      <th>0</th>\n",
       "      <td>230.1</td>\n",
       "      <td>37.8</td>\n",
       "      <td>69.2</td>\n",
       "      <td>22.1</td>\n",
       "    </tr>\n",
       "    <tr>\n",
       "      <th>1</th>\n",
       "      <td>44.5</td>\n",
       "      <td>39.3</td>\n",
       "      <td>45.1</td>\n",
       "      <td>10.4</td>\n",
       "    </tr>\n",
       "    <tr>\n",
       "      <th>2</th>\n",
       "      <td>17.2</td>\n",
       "      <td>45.9</td>\n",
       "      <td>69.3</td>\n",
       "      <td>9.3</td>\n",
       "    </tr>\n",
       "    <tr>\n",
       "      <th>3</th>\n",
       "      <td>151.5</td>\n",
       "      <td>41.3</td>\n",
       "      <td>58.5</td>\n",
       "      <td>18.5</td>\n",
       "    </tr>\n",
       "    <tr>\n",
       "      <th>4</th>\n",
       "      <td>180.8</td>\n",
       "      <td>10.8</td>\n",
       "      <td>58.4</td>\n",
       "      <td>12.9</td>\n",
       "    </tr>\n",
       "  </tbody>\n",
       "</table>\n",
       "</div>"
      ],
      "text/plain": [
       "      TV  radio  newspaper  sales\n",
       "0  230.1   37.8       69.2   22.1\n",
       "1   44.5   39.3       45.1   10.4\n",
       "2   17.2   45.9       69.3    9.3\n",
       "3  151.5   41.3       58.5   18.5\n",
       "4  180.8   10.8       58.4   12.9"
      ]
     },
     "execution_count": 3,
     "metadata": {},
     "output_type": "execute_result"
    }
   ],
   "source": [
    "df.head()"
   ]
  },
  {
   "cell_type": "code",
   "execution_count": 4,
   "id": "118649b7",
   "metadata": {},
   "outputs": [
    {
     "name": "stdout",
     "output_type": "stream",
     "text": [
      "<class 'pandas.core.frame.DataFrame'>\n",
      "RangeIndex: 200 entries, 0 to 199\n",
      "Data columns (total 4 columns):\n",
      " #   Column     Non-Null Count  Dtype  \n",
      "---  ------     --------------  -----  \n",
      " 0   TV         200 non-null    float64\n",
      " 1   radio      200 non-null    float64\n",
      " 2   newspaper  200 non-null    float64\n",
      " 3   sales      200 non-null    float64\n",
      "dtypes: float64(4)\n",
      "memory usage: 6.4 KB\n"
     ]
    }
   ],
   "source": [
    "# Checking the data to find out if there is a missing data \n",
    "df.info()"
   ]
  },
  {
   "cell_type": "code",
   "execution_count": 5,
   "id": "533563d4",
   "metadata": {},
   "outputs": [
    {
     "data": {
      "text/html": [
       "<div>\n",
       "<style scoped>\n",
       "    .dataframe tbody tr th:only-of-type {\n",
       "        vertical-align: middle;\n",
       "    }\n",
       "\n",
       "    .dataframe tbody tr th {\n",
       "        vertical-align: top;\n",
       "    }\n",
       "\n",
       "    .dataframe thead th {\n",
       "        text-align: right;\n",
       "    }\n",
       "</style>\n",
       "<table border=\"1\" class=\"dataframe\">\n",
       "  <thead>\n",
       "    <tr style=\"text-align: right;\">\n",
       "      <th></th>\n",
       "      <th>TV</th>\n",
       "      <th>radio</th>\n",
       "      <th>newspaper</th>\n",
       "      <th>sales</th>\n",
       "    </tr>\n",
       "  </thead>\n",
       "  <tbody>\n",
       "    <tr>\n",
       "      <th>count</th>\n",
       "      <td>200.000000</td>\n",
       "      <td>200.000000</td>\n",
       "      <td>200.000000</td>\n",
       "      <td>200.000000</td>\n",
       "    </tr>\n",
       "    <tr>\n",
       "      <th>mean</th>\n",
       "      <td>147.042500</td>\n",
       "      <td>23.264000</td>\n",
       "      <td>30.554000</td>\n",
       "      <td>14.022500</td>\n",
       "    </tr>\n",
       "    <tr>\n",
       "      <th>std</th>\n",
       "      <td>85.854236</td>\n",
       "      <td>14.846809</td>\n",
       "      <td>21.778621</td>\n",
       "      <td>5.217457</td>\n",
       "    </tr>\n",
       "    <tr>\n",
       "      <th>min</th>\n",
       "      <td>0.700000</td>\n",
       "      <td>0.000000</td>\n",
       "      <td>0.300000</td>\n",
       "      <td>1.600000</td>\n",
       "    </tr>\n",
       "    <tr>\n",
       "      <th>25%</th>\n",
       "      <td>74.375000</td>\n",
       "      <td>9.975000</td>\n",
       "      <td>12.750000</td>\n",
       "      <td>10.375000</td>\n",
       "    </tr>\n",
       "    <tr>\n",
       "      <th>50%</th>\n",
       "      <td>149.750000</td>\n",
       "      <td>22.900000</td>\n",
       "      <td>25.750000</td>\n",
       "      <td>12.900000</td>\n",
       "    </tr>\n",
       "    <tr>\n",
       "      <th>75%</th>\n",
       "      <td>218.825000</td>\n",
       "      <td>36.525000</td>\n",
       "      <td>45.100000</td>\n",
       "      <td>17.400000</td>\n",
       "    </tr>\n",
       "    <tr>\n",
       "      <th>max</th>\n",
       "      <td>296.400000</td>\n",
       "      <td>49.600000</td>\n",
       "      <td>114.000000</td>\n",
       "      <td>27.000000</td>\n",
       "    </tr>\n",
       "  </tbody>\n",
       "</table>\n",
       "</div>"
      ],
      "text/plain": [
       "               TV       radio   newspaper       sales\n",
       "count  200.000000  200.000000  200.000000  200.000000\n",
       "mean   147.042500   23.264000   30.554000   14.022500\n",
       "std     85.854236   14.846809   21.778621    5.217457\n",
       "min      0.700000    0.000000    0.300000    1.600000\n",
       "25%     74.375000    9.975000   12.750000   10.375000\n",
       "50%    149.750000   22.900000   25.750000   12.900000\n",
       "75%    218.825000   36.525000   45.100000   17.400000\n",
       "max    296.400000   49.600000  114.000000   27.000000"
      ]
     },
     "execution_count": 5,
     "metadata": {},
     "output_type": "execute_result"
    }
   ],
   "source": [
    "df.describe()"
   ]
  },
  {
   "cell_type": "code",
   "execution_count": 6,
   "id": "ed0ea9c1",
   "metadata": {},
   "outputs": [
    {
     "data": {
      "text/plain": [
       "<AxesSubplot:ylabel='sales'>"
      ]
     },
     "execution_count": 6,
     "metadata": {},
     "output_type": "execute_result"
    },
    {
     "data": {
      "image/png": "[encoded data removed]",
      "text/plain": [
       "<Figure size 432x288 with 1 Axes>"
      ]
     },
     "metadata": {
      "needs_background": "light"
     },
     "output_type": "display_data"
    }
   ],
   "source": [
    "sns.scatterplot(data=df , x=(df['TV']+df['radio']+df['newspaper']), y = 'sales')"
   ]
  },
  {
   "cell_type": "code",
   "execution_count": 7,
   "id": "b41980a3",
   "metadata": {},
   "outputs": [],
   "source": [
    "# Divide the data to a part for Training the Model & a second part to test the performance of the model\n",
    "from sklearn.model_selection import train_test_split "
   ]
  },
  {
   "cell_type": "code",
   "execution_count": 8,
   "id": "acc19fdd",
   "metadata": {},
   "outputs": [],
   "source": [
    "X=df.drop('sales',axis=1)\n",
    "y=df['sales']"
   ]
  },
  {
   "cell_type": "code",
   "execution_count": 9,
   "id": "629cf11c",
   "metadata": {},
   "outputs": [],
   "source": [
    "X_train,X_test , y_train,y_test = train_test_split(X,y,test_size=0.3,random_state=101)"
   ]
  },
  {
   "cell_type": "code",
   "execution_count": 10,
   "id": "442e2adf",
   "metadata": {},
   "outputs": [],
   "source": [
    "# importing the Linear Model "
   ]
  },
  {
   "cell_type": "code",
   "execution_count": 11,
   "id": "ca454ef8",
   "metadata": {},
   "outputs": [],
   "source": [
    "from sklearn.linear_model import LinearRegression "
   ]
  },
  {
   "cell_type": "code",
   "execution_count": 12,
   "id": "472f067a",
   "metadata": {},
   "outputs": [],
   "source": [
    "model = LinearRegression()"
   ]
  },
  {
   "cell_type": "code",
   "execution_count": 13,
   "id": "c5a2e43b",
   "metadata": {},
   "outputs": [],
   "source": [
    "# training the model according to the Training data"
   ]
  },
  {
   "cell_type": "code",
   "execution_count": 14,
   "id": "c76c7e60",
   "metadata": {},
   "outputs": [
    {
     "data": {
      "text/plain": [
       "LinearRegression()"
      ]
     },
     "execution_count": 14,
     "metadata": {},
     "output_type": "execute_result"
    }
   ],
   "source": [
    "model.fit(X_train,y_train)"
   ]
  },
  {
   "cell_type": "code",
   "execution_count": 15,
   "id": "e2d41be0",
   "metadata": {},
   "outputs": [],
   "source": [
    "# the model is ready for Testing "
   ]
  },
  {
   "cell_type": "code",
   "execution_count": 16,
   "id": "0ddef422",
   "metadata": {},
   "outputs": [],
   "source": [
    "pred = model.predict(X_test)"
   ]
  },
  {
   "cell_type": "code",
   "execution_count": 17,
   "id": "5301791c",
   "metadata": {},
   "outputs": [],
   "source": [
    "# Import the performance measuring software tools"
   ]
  },
  {
   "cell_type": "code",
   "execution_count": 18,
   "id": "0d3d468d",
   "metadata": {},
   "outputs": [],
   "source": [
    "from sklearn.metrics import mean_squared_error , mean_absolute_error "
   ]
  },
  {
   "cell_type": "code",
   "execution_count": 19,
   "id": "fedbe695",
   "metadata": {},
   "outputs": [
    {
     "data": {
      "text/plain": [
       "2.298716697886378"
      ]
     },
     "execution_count": 19,
     "metadata": {},
     "output_type": "execute_result"
    }
   ],
   "source": [
    "mean_squared_error(y_test,pred)"
   ]
  },
  {
   "cell_type": "code",
   "execution_count": 20,
   "id": "6fc9af52",
   "metadata": {},
   "outputs": [
    {
     "data": {
      "text/plain": [
       "1.5161519375993877"
      ]
     },
     "execution_count": 20,
     "metadata": {},
     "output_type": "execute_result"
    }
   ],
   "source": [
    "np.sqrt(mean_squared_error(y_test,pred))"
   ]
  },
  {
   "cell_type": "code",
   "execution_count": 21,
   "id": "cf2bd313",
   "metadata": {},
   "outputs": [
    {
     "data": {
      "text/plain": [
       "1.2137457736144808"
      ]
     },
     "execution_count": 21,
     "metadata": {},
     "output_type": "execute_result"
    }
   ],
   "source": [
    "mean_absolute_error(y_test,pred)"
   ]
  },
  {
   "cell_type": "code",
   "execution_count": 22,
   "id": "70431de6",
   "metadata": {},
   "outputs": [
    {
     "data": {
      "text/plain": [
       "14.022500000000003"
      ]
     },
     "execution_count": 22,
     "metadata": {},
     "output_type": "execute_result"
    }
   ],
   "source": [
    "df['sales'].mean()"
   ]
  },
  {
   "cell_type": "code",
   "execution_count": 23,
   "id": "53bd405c",
   "metadata": {},
   "outputs": [
    {
     "data": {
      "text/plain": [
       "0.10827902658501314"
      ]
     },
     "execution_count": 23,
     "metadata": {},
     "output_type": "execute_result"
    }
   ],
   "source": [
    "1.51615 /14.00225 "
   ]
  },
  {
   "cell_type": "code",
   "execution_count": 24,
   "id": "93df783b",
   "metadata": {},
   "outputs": [],
   "source": [
    "# the error is about 10 percent according to Root Mean Squared Error"
   ]
  },
  {
   "cell_type": "code",
   "execution_count": 25,
   "id": "67617304",
   "metadata": {},
   "outputs": [
    {
     "data": {
      "text/plain": [
       "0.08668178328482923"
      ]
     },
     "execution_count": 25,
     "metadata": {},
     "output_type": "execute_result"
    }
   ],
   "source": [
    "1.21374 /14.00225 "
   ]
  },
  {
   "cell_type": "code",
   "execution_count": 26,
   "id": "9864fc3f",
   "metadata": {},
   "outputs": [],
   "source": [
    "# the error is about 8 percent according to  Mean Absolute Error"
   ]
  },
  {
   "cell_type": "code",
   "execution_count": 27,
   "id": "5d118bc7",
   "metadata": {},
   "outputs": [],
   "source": [
    "# now by changing the polynomal degree "
   ]
  },
  {
   "cell_type": "code",
   "execution_count": 28,
   "id": "2e7b4f32",
   "metadata": {},
   "outputs": [],
   "source": [
    "from sklearn.preprocessing import PolynomialFeatures"
   ]
  },
  {
   "cell_type": "code",
   "execution_count": 29,
   "id": "611fa858",
   "metadata": {},
   "outputs": [],
   "source": [
    "poly_converter = PolynomialFeatures(include_bias=False)\n",
    "# possible to give a spesific value for the ploynomial degree "
   ]
  },
  {
   "cell_type": "code",
   "execution_count": 30,
   "id": "f909a99f",
   "metadata": {},
   "outputs": [],
   "source": [
    "polynomial_featured =poly_converter.fit_transform(X)"
   ]
  },
  {
   "cell_type": "code",
   "execution_count": 31,
   "id": "be107c78",
   "metadata": {},
   "outputs": [
    {
     "data": {
      "text/plain": [
       "(200, 3)"
      ]
     },
     "execution_count": 31,
     "metadata": {},
     "output_type": "execute_result"
    }
   ],
   "source": [
    "X.shape"
   ]
  },
  {
   "cell_type": "code",
   "execution_count": 32,
   "id": "1bd2766b",
   "metadata": {},
   "outputs": [
    {
     "data": {
      "text/plain": [
       "(200, 9)"
      ]
     },
     "execution_count": 32,
     "metadata": {},
     "output_type": "execute_result"
    }
   ],
   "source": [
    "polynomial_featured.shape"
   ]
  },
  {
   "cell_type": "code",
   "execution_count": 33,
   "id": "3adc8244",
   "metadata": {},
   "outputs": [],
   "source": [
    "pX_train,pX_test , y_train,y_test = train_test_split(polynomial_featured,y,test_size=0.3,random_state=101)"
   ]
  },
  {
   "cell_type": "code",
   "execution_count": 34,
   "id": "fde7a39a",
   "metadata": {},
   "outputs": [],
   "source": [
    "with_poly_model = LinearRegression()"
   ]
  },
  {
   "cell_type": "code",
   "execution_count": 35,
   "id": "f5e532d5",
   "metadata": {},
   "outputs": [
    {
     "data": {
      "text/plain": [
       "LinearRegression()"
      ]
     },
     "execution_count": 35,
     "metadata": {},
     "output_type": "execute_result"
    }
   ],
   "source": [
    "with_poly_model.fit(pX_train,y_train)"
   ]
  },
  {
   "cell_type": "code",
   "execution_count": 36,
   "id": "10073f79",
   "metadata": {},
   "outputs": [],
   "source": [
    "pred2 = with_poly_model.predict(pX_test)"
   ]
  },
  {
   "cell_type": "code",
   "execution_count": 37,
   "id": "4c06d942",
   "metadata": {},
   "outputs": [
    {
     "data": {
      "text/plain": [
       "0.6646431757269196"
      ]
     },
     "execution_count": 37,
     "metadata": {},
     "output_type": "execute_result"
    }
   ],
   "source": [
    "np.sqrt(mean_squared_error(y_test,pred2))"
   ]
  },
  {
   "cell_type": "code",
   "execution_count": 38,
   "id": "03ad5fff",
   "metadata": {},
   "outputs": [],
   "source": [
    "# With polynomial the Root Mean Squared Error reduced from 1.51 to 0.66"
   ]
  },
  {
   "cell_type": "code",
   "execution_count": 39,
   "id": "54aa0258",
   "metadata": {},
   "outputs": [
    {
     "data": {
      "text/plain": [
       "0.48967980448037"
      ]
     },
     "execution_count": 39,
     "metadata": {},
     "output_type": "execute_result"
    }
   ],
   "source": [
    "mean_absolute_error(y_test,pred2)"
   ]
  },
  {
   "cell_type": "code",
   "execution_count": 40,
   "id": "87629a06",
   "metadata": {},
   "outputs": [],
   "source": [
    "# With polynomial the Mean Absolute Error reduced from 1.21 to 0.48"
   ]
  },
  {
   "cell_type": "code",
   "execution_count": 41,
   "id": "7b29fa52",
   "metadata": {},
   "outputs": [],
   "source": [
    "# the performance of PolynomialFeatures can be changed by changing the degree and to figure it out a for loop can be used "
   ]
  },
  {
   "cell_type": "code",
   "execution_count": 42,
   "id": "da8e40b1",
   "metadata": {},
   "outputs": [],
   "source": [
    "rmse = []\n",
    "mae=[]\n",
    "for n in range(1,10):\n",
    "    model = LinearRegression()\n",
    "    poly_converter = PolynomialFeatures(include_bias=False,degree=n)\n",
    "    polynomial_featured =poly_converter.fit_transform(X)\n",
    "    fpX_train,fpX_test , y_train,y_test = train_test_split(polynomial_featured,y,test_size=0.3,random_state=101)\n",
    "    model.fit(fpX_train,y_train)\n",
    "    pred3 = model.predict(fpX_test)\n",
    "    r = np.sqrt(mean_squared_error(y_test,pred3))\n",
    "    a =mean_absolute_error(y_test,pred3)\n",
    "    \n",
    "    rmse.append(r)\n",
    "    mae.append(a)"
   ]
  },
  {
   "cell_type": "code",
   "execution_count": 43,
   "id": "04a40ae0",
   "metadata": {},
   "outputs": [],
   "source": [
    "# by ploting the results to see the best polynomial degree "
   ]
  },
  {
   "cell_type": "code",
   "execution_count": 44,
   "id": "8c59a3bf",
   "metadata": {},
   "outputs": [
    {
     "data": {
      "text/plain": [
       "[1.5161519375993873,\n",
       " 0.6646431757269196,\n",
       " 0.5803286825231453,\n",
       " 0.5077742624232109,\n",
       " 2.5758247603435955,\n",
       " 4.490868529265006,\n",
       " 1381.404235838588,\n",
       " 4449.5681972303655,\n",
       " 95893.0265813161]"
      ]
     },
     "execution_count": 44,
     "metadata": {},
     "output_type": "execute_result"
    }
   ],
   "source": [
    "rmse"
   ]
  },
  {
   "cell_type": "code",
   "execution_count": 45,
   "id": "4bbd99e4",
   "metadata": {},
   "outputs": [
    {
     "data": {
      "text/plain": [
       "3"
      ]
     },
     "execution_count": 45,
     "metadata": {},
     "output_type": "execute_result"
    }
   ],
   "source": [
    "rmse.index(min(rmse))"
   ]
  },
  {
   "cell_type": "code",
   "execution_count": 46,
   "id": "557e565c",
   "metadata": {},
   "outputs": [],
   "source": [
    "# the lowest polynomial degree is the index of lowest value + 1 (as index start fom zero)\n",
    "# the best polynomial degree is 4 "
   ]
  },
  {
   "cell_type": "code",
   "execution_count": 47,
   "id": "3efc5196",
   "metadata": {},
   "outputs": [
    {
     "data": {
      "text/plain": [
       "[<matplotlib.lines.Line2D at 0x2142abbd820>]"
      ]
     },
     "execution_count": 47,
     "metadata": {},
     "output_type": "execute_result"
    },
    {
     "data": {
      "image/png": "[encoded data removed]",
      "text/plain": [
       "<Figure size 2000x1200 with 1 Axes>"
      ]
     },
     "metadata": {
      "needs_background": "light"
     },
     "output_type": "display_data"
    }
   ],
   "source": [
    "plt.figure(figsize=(10,6),dpi=200)\n",
    "plt.plot(range(1,10),rmse)"
   ]
  },
  {
   "cell_type": "code",
   "execution_count": 48,
   "id": "2ce22b28",
   "metadata": {},
   "outputs": [
    {
     "data": {
      "text/plain": [
       "3"
      ]
     },
     "execution_count": 48,
     "metadata": {},
     "output_type": "execute_result"
    }
   ],
   "source": [
    "mae.index(min(mae))"
   ]
  },
  {
   "cell_type": "code",
   "execution_count": 49,
   "id": "f553ac50",
   "metadata": {},
   "outputs": [],
   "source": [
    "#the same as before >>>>>>>>>>>  the lowest polynomial degree is the index of lowest value + 1 (as index start fom zero)\n",
    "# the best polynomial degree is 4 "
   ]
  },
  {
   "cell_type": "code",
   "execution_count": 50,
   "id": "ae2904b3",
   "metadata": {},
   "outputs": [
    {
     "data": {
      "text/plain": [
       "[<matplotlib.lines.Line2D at 0x2142c9a79a0>]"
      ]
     },
     "execution_count": 50,
     "metadata": {},
     "output_type": "execute_result"
    },
    {
     "data": {
      "image/png": "[encoded data removed]",
      "text/plain": [
       "<Figure size 2000x1200 with 1 Axes>"
      ]
     },
     "metadata": {
      "needs_background": "light"
     },
     "output_type": "display_data"
    }
   ],
   "source": [
    "plt.figure(figsize=(10,6),dpi=200)\n",
    "plt.plot(range(1,10),mae)"
   ]
  },
  {
   "cell_type": "code",
   "execution_count": 51,
   "id": "eee0a45e",
   "metadata": {},
   "outputs": [],
   "source": [
    "# for better result 1 - polynoial , 2- cross validation 101  3 - scaling "
   ]
  },
  {
   "cell_type": "code",
   "execution_count": null,
   "id": "53b103ec",
   "metadata": {},
   "outputs": [],
   "source": []
  }
 ],
 "metadata": {
  "kernelspec": {
   "display_name": "Python 3 (ipykernel)",
   "language": "python",
   "name": "python3"
  },
  "language_info": {
   "codemirror_mode": {
    "name": "ipython",
    "version": 3
   },
   "file_extension": ".py",
   "mimetype": "text/x-python",
   "name": "python",
   "nbconvert_exporter": "python",
   "pygments_lexer": "ipython3",
   "version": "3.8.11"
  }
 },
 "nbformat": 4,
 "nbformat_minor": 5
}
